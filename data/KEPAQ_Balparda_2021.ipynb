{
 "cells": [
  {
   "cell_type": "code",
   "execution_count": 1,
   "id": "da19fbd4",
   "metadata": {},
   "outputs": [
    {
     "name": "stdout",
     "output_type": "stream",
     "text": [
      "Raw data - first row KEPAQ\n",
      "KEPAQ_F_Q01: 0.0\n",
      "KEPAQ_F_Q02: 2.0\n",
      "KEPAQ_F_Q03: 1.0\n"
     ]
    }
   ],
   "source": [
    "import pandas as pd\n",
    "\n",
    "\n",
    "df = pd.read_csv('qualityOflife.csv')\n",
    "\n",
    "print(\"Raw data - first row KEPAQ\")\n",
    "print(f\"KEPAQ_F_Q01: {df.loc[0, 'KEPAQ_F_Q01']}\")\n",
    "print(f\"KEPAQ_F_Q02: {df.loc[0, 'KEPAQ_F_Q02']}\")\n",
    "print(f\"KEPAQ_F_Q03: {df.loc[0, 'KEPAQ_F_Q03']}\")\n",
    "\n",
    "\n",
    "df = df.drop(['NAME', 'ID'], axis=1)\n",
    "df.insert(0, 'PATIENT_ID', range(1, len(df) + 1))\n",
    "\n",
    "\n",
    "kepaq_items = [\n",
    "    'KEPAQ_F_Q01', 'KEPAQ_F_Q02', 'KEPAQ_F_Q03', 'KEPAQ_F_Q04', \n",
    "    'KEPAQ_F_Q05', 'KEPAQ_F_Q06', 'KEPAQ_F_Q07', 'KEPAQ_F_Q08', \n",
    "    'KEPAQ_F_Q09', 'KEPAQ_E_Q01', 'KEPAQ_E_Q02', 'KEPAQ_E_Q03', \n",
    "    'KEPAQ_E_Q04', 'KEPAQ_E_Q05', 'KEPAQ_E_Q06', 'KEPAQ_E_Q07'\n",
    "]\n",
    "\n",
    "\n",
    "covariate_cols = [\n",
    "    'AGE', 'SEX', 'AGE_AT_DIAGNOSIS', 'AGE_AT_FIRST_SURGERY',\n",
    "    'REFRACTIVE_SITUATION', 'KERATOPLASTY', 'CORNEAL_RINGS', \n",
    "    'CROSSLINKING', 'INTRAOCULAR_LENS', 'HYPERTENSION', 'DIABETES',\n",
    "    'HYPERTIROIDISM', 'HIPOTHYROIDISM', 'ALLERGIC_CONJUNCTIVITIS',\n",
    "    'DERMATITIS', 'FOOD_ALERGY', 'DRUGS_ALERGY', 'KIDNEY_DISEASE',\n",
    "    'LIVER_DISEASE', 'MARFAN', 'EHLERS-DAHNLOS', 'RIEGER', 'DOWN',\n",
    "    'APERT', 'OCULODENTODIGITAL', 'TURNER'\n",
    "]\n",
    "\n",
    "\n",
    "df_long = pd.melt(\n",
    "    df,\n",
    "    id_vars=['PATIENT_ID'] + covariate_cols,\n",
    "    value_vars=kepaq_items,\n",
    "    var_name='item',\n",
    "    value_name='resp'\n",
    ")\n",
    "\n",
    "\n",
    "df_long = df_long.rename(columns={'PATIENT_ID': 'id'})\n",
    "\n",
    "\n",
    "covariate_rename = {col: f'cov_{col.lower()}' for col in covariate_cols}\n",
    "df_long = df_long.rename(columns=covariate_rename)\n",
    "\n",
    "item_order = {item: i for i, item in enumerate(kepaq_items)}\n",
    "df_long['item_order'] = df_long['item'].map(item_order)\n",
    "\n",
    "df_long = df_long.sort_values(['id', 'item_order']).reset_index(drop=True)\n",
    "\n",
    "df_long = df_long.drop('item_order', axis=1)\n",
    "\n",
    "cov_columns = [f'cov_{col.lower()}' for col in covariate_cols]\n",
    "df_long = df_long[['id', 'item', 'resp'] + cov_columns]\n"
   ]
  },
  {
   "cell_type": "code",
   "execution_count": 2,
   "id": "29afd278",
   "metadata": {},
   "outputs": [
    {
     "name": "stdout",
     "output_type": "stream",
     "text": [
      "\n",
      "Testing - first 5 rows\n",
      "   id         item  resp\n",
      "0   1  KEPAQ_F_Q01   0.0\n",
      "1   1  KEPAQ_F_Q02   2.0\n",
      "2   1  KEPAQ_F_Q03   1.0\n",
      "3   1  KEPAQ_F_Q04   2.0\n",
      "4   1  KEPAQ_F_Q05   1.0\n",
      "\n",
      "✓ Done! In total 6176 rows\n"
     ]
    }
   ],
   "source": [
    "print(\"\\nTesting - first 5 rows\")\n",
    "patient_1_data = df_long[df_long['id'] == 1].head(5)\n",
    "print(patient_1_data[['id', 'item', 'resp']])\n",
    "\n",
    "df_long.to_csv('KEPAQ_Balparda_2021.csv', index=False, encoding='utf-8')\n",
    "\n",
    "print(f\"\\n✓ Done! In total {len(df_long)} rows\")"
   ]
  },
  {
   "cell_type": "code",
   "execution_count": null,
   "id": "3647a5ce",
   "metadata": {},
   "outputs": [],
   "source": []
  }
 ],
 "metadata": {
  "kernelspec": {
   "display_name": "Python 3",
   "language": "python",
   "name": "python3"
  },
  "language_info": {
   "codemirror_mode": {
    "name": "ipython",
    "version": 3
   },
   "file_extension": ".py",
   "mimetype": "text/x-python",
   "name": "python",
   "nbconvert_exporter": "python",
   "pygments_lexer": "ipython3",
   "version": "3.11.13"
  }
 },
 "nbformat": 4,
 "nbformat_minor": 5
}
